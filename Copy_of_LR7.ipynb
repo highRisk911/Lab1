{
  "nbformat": 4,
  "nbformat_minor": 0,
  "metadata": {
    "colab": {
      "name": "Copy of LR7.ipynb",
      "provenance": [],
      "collapsed_sections": [],
      "include_colab_link": true
    },
    "kernelspec": {
      "name": "python3",
      "display_name": "Python 3"
    },
    "language_info": {
      "name": "python"
    }
  },
  "cells": [
    {
      "cell_type": "markdown",
      "metadata": {
        "id": "view-in-github",
        "colab_type": "text"
      },
      "source": [
        "<a href=\"https://colab.research.google.com/github/highRisk911/Lab1/blob/main/Copy_of_LR7.ipynb\" target=\"_parent\"><img src=\"https://colab.research.google.com/assets/colab-badge.svg\" alt=\"Open In Colab\"/></a>"
      ]
    },
    {
      "cell_type": "markdown",
      "source": [
        "### Лабораторна робота №7\n",
        "#Іщенка Дмитра\n",
        " \n"
      ],
      "metadata": {
        "id": "eKFClUdbvGi7"
      }
    },
    {
      "cell_type": "markdown",
      "source": [
        "Завантажуємо вхідні дані"
      ],
      "metadata": {
        "id": "U2GLOlnVnR0Y"
      }
    },
    {
      "cell_type": "code",
      "source": [
        "!wget https://raw.githubusercontent.com/mrdbourke/tensorflow-deep-learning/main/extras/BTC_USD_2013-10-01_2021-05-18-CoinDesk.csv "
      ],
      "metadata": {
        "colab": {
          "base_uri": "https://localhost:8080/"
        },
        "id": "ml8eyu2IvGLm",
        "outputId": "2db243b2-085d-4445-b092-cf241a167d21"
      },
      "execution_count": 3,
      "outputs": [
        {
          "output_type": "stream",
          "name": "stdout",
          "text": [
            "--2022-05-28 08:03:36--  https://raw.githubusercontent.com/mrdbourke/tensorflow-deep-learning/main/extras/BTC_USD_2013-10-01_2021-05-18-CoinDesk.csv\n",
            "Resolving raw.githubusercontent.com (raw.githubusercontent.com)... 185.199.108.133, 185.199.110.133, 185.199.111.133, ...\n",
            "Connecting to raw.githubusercontent.com (raw.githubusercontent.com)|185.199.108.133|:443... connected.\n",
            "HTTP request sent, awaiting response... 200 OK\n",
            "Length: 178509 (174K) [text/plain]\n",
            "Saving to: ‘BTC_USD_2013-10-01_2021-05-18-CoinDesk.csv’\n",
            "\n",
            "BTC_USD_2013-10-01_ 100%[===================>] 174.33K  --.-KB/s    in 0.02s   \n",
            "\n",
            "2022-05-28 08:03:36 (7.05 MB/s) - ‘BTC_USD_2013-10-01_2021-05-18-CoinDesk.csv’ saved [178509/178509]\n",
            "\n"
          ]
        }
      ]
    },
    {
      "cell_type": "markdown",
      "source": [
        ""
      ],
      "metadata": {
        "id": "O0V5A8wmnQUl"
      }
    },
    {
      "cell_type": "code",
      "source": [
        "import pandas as panDas\n",
        "\n",
        "dataFrame = panDas.read_csv(\"/content/BTC_USD_2013-10-01_2021-05-18-CoinDesk.csv\", \n",
        "                 parse_dates=[\"Date\"], \n",
        "                 index_col=[\"Date\"])\n",
        "dataFrame.head()"
      ],
      "metadata": {
        "colab": {
          "base_uri": "https://localhost:8080/",
          "height": 238
        },
        "id": "R5lzxkj3w--S",
        "outputId": "43d8b814-38eb-48c3-ee8f-080f8352d856"
      },
      "execution_count": 4,
      "outputs": [
        {
          "output_type": "execute_result",
          "data": {
            "text/plain": [
              "           Currency  Closing Price (USD)  24h Open (USD)  24h High (USD)  \\\n",
              "Date                                                                       \n",
              "2013-10-01      BTC            123.65499       124.30466       124.75166   \n",
              "2013-10-02      BTC            125.45500       123.65499       125.75850   \n",
              "2013-10-03      BTC            108.58483       125.45500       125.66566   \n",
              "2013-10-04      BTC            118.67466       108.58483       118.67500   \n",
              "2013-10-05      BTC            121.33866       118.67466       121.93633   \n",
              "\n",
              "            24h Low (USD)  \n",
              "Date                       \n",
              "2013-10-01      122.56349  \n",
              "2013-10-02      123.63383  \n",
              "2013-10-03       83.32833  \n",
              "2013-10-04      107.05816  \n",
              "2013-10-05      118.00566  "
            ],
            "text/html": [
              "\n",
              "  <div id=\"df-b98cd943-f71b-43f1-bca4-c279dda80bbd\">\n",
              "    <div class=\"colab-df-container\">\n",
              "      <div>\n",
              "<style scoped>\n",
              "    .dataframe tbody tr th:only-of-type {\n",
              "        vertical-align: middle;\n",
              "    }\n",
              "\n",
              "    .dataframe tbody tr th {\n",
              "        vertical-align: top;\n",
              "    }\n",
              "\n",
              "    .dataframe thead th {\n",
              "        text-align: right;\n",
              "    }\n",
              "</style>\n",
              "<table border=\"1\" class=\"dataframe\">\n",
              "  <thead>\n",
              "    <tr style=\"text-align: right;\">\n",
              "      <th></th>\n",
              "      <th>Currency</th>\n",
              "      <th>Closing Price (USD)</th>\n",
              "      <th>24h Open (USD)</th>\n",
              "      <th>24h High (USD)</th>\n",
              "      <th>24h Low (USD)</th>\n",
              "    </tr>\n",
              "    <tr>\n",
              "      <th>Date</th>\n",
              "      <th></th>\n",
              "      <th></th>\n",
              "      <th></th>\n",
              "      <th></th>\n",
              "      <th></th>\n",
              "    </tr>\n",
              "  </thead>\n",
              "  <tbody>\n",
              "    <tr>\n",
              "      <th>2013-10-01</th>\n",
              "      <td>BTC</td>\n",
              "      <td>123.65499</td>\n",
              "      <td>124.30466</td>\n",
              "      <td>124.75166</td>\n",
              "      <td>122.56349</td>\n",
              "    </tr>\n",
              "    <tr>\n",
              "      <th>2013-10-02</th>\n",
              "      <td>BTC</td>\n",
              "      <td>125.45500</td>\n",
              "      <td>123.65499</td>\n",
              "      <td>125.75850</td>\n",
              "      <td>123.63383</td>\n",
              "    </tr>\n",
              "    <tr>\n",
              "      <th>2013-10-03</th>\n",
              "      <td>BTC</td>\n",
              "      <td>108.58483</td>\n",
              "      <td>125.45500</td>\n",
              "      <td>125.66566</td>\n",
              "      <td>83.32833</td>\n",
              "    </tr>\n",
              "    <tr>\n",
              "      <th>2013-10-04</th>\n",
              "      <td>BTC</td>\n",
              "      <td>118.67466</td>\n",
              "      <td>108.58483</td>\n",
              "      <td>118.67500</td>\n",
              "      <td>107.05816</td>\n",
              "    </tr>\n",
              "    <tr>\n",
              "      <th>2013-10-05</th>\n",
              "      <td>BTC</td>\n",
              "      <td>121.33866</td>\n",
              "      <td>118.67466</td>\n",
              "      <td>121.93633</td>\n",
              "      <td>118.00566</td>\n",
              "    </tr>\n",
              "  </tbody>\n",
              "</table>\n",
              "</div>\n",
              "      <button class=\"colab-df-convert\" onclick=\"convertToInteractive('df-b98cd943-f71b-43f1-bca4-c279dda80bbd')\"\n",
              "              title=\"Convert this dataframe to an interactive table.\"\n",
              "              style=\"display:none;\">\n",
              "        \n",
              "  <svg xmlns=\"http://www.w3.org/2000/svg\" height=\"24px\"viewBox=\"0 0 24 24\"\n",
              "       width=\"24px\">\n",
              "    <path d=\"M0 0h24v24H0V0z\" fill=\"none\"/>\n",
              "    <path d=\"M18.56 5.44l.94 2.06.94-2.06 2.06-.94-2.06-.94-.94-2.06-.94 2.06-2.06.94zm-11 1L8.5 8.5l.94-2.06 2.06-.94-2.06-.94L8.5 2.5l-.94 2.06-2.06.94zm10 10l.94 2.06.94-2.06 2.06-.94-2.06-.94-.94-2.06-.94 2.06-2.06.94z\"/><path d=\"M17.41 7.96l-1.37-1.37c-.4-.4-.92-.59-1.43-.59-.52 0-1.04.2-1.43.59L10.3 9.45l-7.72 7.72c-.78.78-.78 2.05 0 2.83L4 21.41c.39.39.9.59 1.41.59.51 0 1.02-.2 1.41-.59l7.78-7.78 2.81-2.81c.8-.78.8-2.07 0-2.86zM5.41 20L4 18.59l7.72-7.72 1.47 1.35L5.41 20z\"/>\n",
              "  </svg>\n",
              "      </button>\n",
              "      \n",
              "  <style>\n",
              "    .colab-df-container {\n",
              "      display:flex;\n",
              "      flex-wrap:wrap;\n",
              "      gap: 12px;\n",
              "    }\n",
              "\n",
              "    .colab-df-convert {\n",
              "      background-color: #E8F0FE;\n",
              "      border: none;\n",
              "      border-radius: 50%;\n",
              "      cursor: pointer;\n",
              "      display: none;\n",
              "      fill: #1967D2;\n",
              "      height: 32px;\n",
              "      padding: 0 0 0 0;\n",
              "      width: 32px;\n",
              "    }\n",
              "\n",
              "    .colab-df-convert:hover {\n",
              "      background-color: #E2EBFA;\n",
              "      box-shadow: 0px 1px 2px rgba(60, 64, 67, 0.3), 0px 1px 3px 1px rgba(60, 64, 67, 0.15);\n",
              "      fill: #174EA6;\n",
              "    }\n",
              "\n",
              "    [theme=dark] .colab-df-convert {\n",
              "      background-color: #3B4455;\n",
              "      fill: #D2E3FC;\n",
              "    }\n",
              "\n",
              "    [theme=dark] .colab-df-convert:hover {\n",
              "      background-color: #434B5C;\n",
              "      box-shadow: 0px 1px 3px 1px rgba(0, 0, 0, 0.15);\n",
              "      filter: drop-shadow(0px 1px 2px rgba(0, 0, 0, 0.3));\n",
              "      fill: #FFFFFF;\n",
              "    }\n",
              "  </style>\n",
              "\n",
              "      <script>\n",
              "        const buttonEl =\n",
              "          document.querySelector('#df-b98cd943-f71b-43f1-bca4-c279dda80bbd button.colab-df-convert');\n",
              "        buttonEl.style.display =\n",
              "          google.colab.kernel.accessAllowed ? 'block' : 'none';\n",
              "\n",
              "        async function convertToInteractive(key) {\n",
              "          const element = document.querySelector('#df-b98cd943-f71b-43f1-bca4-c279dda80bbd');\n",
              "          const dataTable =\n",
              "            await google.colab.kernel.invokeFunction('convertToInteractive',\n",
              "                                                     [key], {});\n",
              "          if (!dataTable) return;\n",
              "\n",
              "          const docLinkHtml = 'Like what you see? Visit the ' +\n",
              "            '<a target=\"_blank\" href=https://colab.research.google.com/notebooks/data_table.ipynb>data table notebook</a>'\n",
              "            + ' to learn more about interactive tables.';\n",
              "          element.innerHTML = '';\n",
              "          dataTable['output_type'] = 'display_data';\n",
              "          await google.colab.output.renderOutput(dataTable, element);\n",
              "          const docLink = document.createElement('div');\n",
              "          docLink.innerHTML = docLinkHtml;\n",
              "          element.appendChild(docLink);\n",
              "        }\n",
              "      </script>\n",
              "    </div>\n",
              "  </div>\n",
              "  "
            ]
          },
          "metadata": {},
          "execution_count": 4
        }
      ]
    },
    {
      "cell_type": "code",
      "source": [
        "bitcoin_prices = panDas.DataFrame(dataFrame[\"Closing Price (USD)\"]).rename(columns={\"Closing Price (USD)\": \"Price\"})\n",
        "bitcoin_prices.head()"
      ],
      "metadata": {
        "colab": {
          "base_uri": "https://localhost:8080/",
          "height": 238
        },
        "id": "DMcLxxIMw_Ae",
        "outputId": "f146d9db-a4bc-4002-d99d-bfc00701dbf4"
      },
      "execution_count": 5,
      "outputs": [
        {
          "output_type": "execute_result",
          "data": {
            "text/plain": [
              "                Price\n",
              "Date                 \n",
              "2013-10-01  123.65499\n",
              "2013-10-02  125.45500\n",
              "2013-10-03  108.58483\n",
              "2013-10-04  118.67466\n",
              "2013-10-05  121.33866"
            ],
            "text/html": [
              "\n",
              "  <div id=\"df-996ef156-351c-4de2-996a-c25984bf250b\">\n",
              "    <div class=\"colab-df-container\">\n",
              "      <div>\n",
              "<style scoped>\n",
              "    .dataframe tbody tr th:only-of-type {\n",
              "        vertical-align: middle;\n",
              "    }\n",
              "\n",
              "    .dataframe tbody tr th {\n",
              "        vertical-align: top;\n",
              "    }\n",
              "\n",
              "    .dataframe thead th {\n",
              "        text-align: right;\n",
              "    }\n",
              "</style>\n",
              "<table border=\"1\" class=\"dataframe\">\n",
              "  <thead>\n",
              "    <tr style=\"text-align: right;\">\n",
              "      <th></th>\n",
              "      <th>Price</th>\n",
              "    </tr>\n",
              "    <tr>\n",
              "      <th>Date</th>\n",
              "      <th></th>\n",
              "    </tr>\n",
              "  </thead>\n",
              "  <tbody>\n",
              "    <tr>\n",
              "      <th>2013-10-01</th>\n",
              "      <td>123.65499</td>\n",
              "    </tr>\n",
              "    <tr>\n",
              "      <th>2013-10-02</th>\n",
              "      <td>125.45500</td>\n",
              "    </tr>\n",
              "    <tr>\n",
              "      <th>2013-10-03</th>\n",
              "      <td>108.58483</td>\n",
              "    </tr>\n",
              "    <tr>\n",
              "      <th>2013-10-04</th>\n",
              "      <td>118.67466</td>\n",
              "    </tr>\n",
              "    <tr>\n",
              "      <th>2013-10-05</th>\n",
              "      <td>121.33866</td>\n",
              "    </tr>\n",
              "  </tbody>\n",
              "</table>\n",
              "</div>\n",
              "      <button class=\"colab-df-convert\" onclick=\"convertToInteractive('df-996ef156-351c-4de2-996a-c25984bf250b')\"\n",
              "              title=\"Convert this dataframe to an interactive table.\"\n",
              "              style=\"display:none;\">\n",
              "        \n",
              "  <svg xmlns=\"http://www.w3.org/2000/svg\" height=\"24px\"viewBox=\"0 0 24 24\"\n",
              "       width=\"24px\">\n",
              "    <path d=\"M0 0h24v24H0V0z\" fill=\"none\"/>\n",
              "    <path d=\"M18.56 5.44l.94 2.06.94-2.06 2.06-.94-2.06-.94-.94-2.06-.94 2.06-2.06.94zm-11 1L8.5 8.5l.94-2.06 2.06-.94-2.06-.94L8.5 2.5l-.94 2.06-2.06.94zm10 10l.94 2.06.94-2.06 2.06-.94-2.06-.94-.94-2.06-.94 2.06-2.06.94z\"/><path d=\"M17.41 7.96l-1.37-1.37c-.4-.4-.92-.59-1.43-.59-.52 0-1.04.2-1.43.59L10.3 9.45l-7.72 7.72c-.78.78-.78 2.05 0 2.83L4 21.41c.39.39.9.59 1.41.59.51 0 1.02-.2 1.41-.59l7.78-7.78 2.81-2.81c.8-.78.8-2.07 0-2.86zM5.41 20L4 18.59l7.72-7.72 1.47 1.35L5.41 20z\"/>\n",
              "  </svg>\n",
              "      </button>\n",
              "      \n",
              "  <style>\n",
              "    .colab-df-container {\n",
              "      display:flex;\n",
              "      flex-wrap:wrap;\n",
              "      gap: 12px;\n",
              "    }\n",
              "\n",
              "    .colab-df-convert {\n",
              "      background-color: #E8F0FE;\n",
              "      border: none;\n",
              "      border-radius: 50%;\n",
              "      cursor: pointer;\n",
              "      display: none;\n",
              "      fill: #1967D2;\n",
              "      height: 32px;\n",
              "      padding: 0 0 0 0;\n",
              "      width: 32px;\n",
              "    }\n",
              "\n",
              "    .colab-df-convert:hover {\n",
              "      background-color: #E2EBFA;\n",
              "      box-shadow: 0px 1px 2px rgba(60, 64, 67, 0.3), 0px 1px 3px 1px rgba(60, 64, 67, 0.15);\n",
              "      fill: #174EA6;\n",
              "    }\n",
              "\n",
              "    [theme=dark] .colab-df-convert {\n",
              "      background-color: #3B4455;\n",
              "      fill: #D2E3FC;\n",
              "    }\n",
              "\n",
              "    [theme=dark] .colab-df-convert:hover {\n",
              "      background-color: #434B5C;\n",
              "      box-shadow: 0px 1px 3px 1px rgba(0, 0, 0, 0.15);\n",
              "      filter: drop-shadow(0px 1px 2px rgba(0, 0, 0, 0.3));\n",
              "      fill: #FFFFFF;\n",
              "    }\n",
              "  </style>\n",
              "\n",
              "      <script>\n",
              "        const buttonEl =\n",
              "          document.querySelector('#df-996ef156-351c-4de2-996a-c25984bf250b button.colab-df-convert');\n",
              "        buttonEl.style.display =\n",
              "          google.colab.kernel.accessAllowed ? 'block' : 'none';\n",
              "\n",
              "        async function convertToInteractive(key) {\n",
              "          const element = document.querySelector('#df-996ef156-351c-4de2-996a-c25984bf250b');\n",
              "          const dataTable =\n",
              "            await google.colab.kernel.invokeFunction('convertToInteractive',\n",
              "                                                     [key], {});\n",
              "          if (!dataTable) return;\n",
              "\n",
              "          const docLinkHtml = 'Like what you see? Visit the ' +\n",
              "            '<a target=\"_blank\" href=https://colab.research.google.com/notebooks/data_table.ipynb>data table notebook</a>'\n",
              "            + ' to learn more about interactive tables.';\n",
              "          element.innerHTML = '';\n",
              "          dataTable['output_type'] = 'display_data';\n",
              "          await google.colab.output.renderOutput(dataTable, element);\n",
              "          const docLink = document.createElement('div');\n",
              "          docLink.innerHTML = docLinkHtml;\n",
              "          element.appendChild(docLink);\n",
              "        }\n",
              "      </script>\n",
              "    </div>\n",
              "  </div>\n",
              "  "
            ]
          },
          "metadata": {},
          "execution_count": 5
        }
      ]
    },
    {
      "cell_type": "code",
      "source": [
        "import matplotlib.pyplot as mathPlotLib\n",
        "\n",
        "bitcoin_prices.plot(figsize=(10, 7))\n",
        "mathPlotLib.ylabel(\"BTC Price\")\n",
        "mathPlotLib.title(\"Price of Bitcoin from 1 Oct 2013 to 18 May 2021\", fontsize=16)\n",
        "mathPlotLib.legend(fontsize=14);"
      ],
      "metadata": {
        "colab": {
          "base_uri": "https://localhost:8080/",
          "height": 460
        },
        "id": "8B0NMReIw_C0",
        "outputId": "da82a912-a399-4be8-ae06-6e88b3bc2fa2"
      },
      "execution_count": 6,
      "outputs": [
        {
          "output_type": "display_data",
          "data": {
            "text/plain": [
              "<Figure size 720x504 with 1 Axes>"
            ],
            "image/png": "[encoded data removed]"
          },
          "metadata": {
            "needs_background": "light"
          }
        }
      ]
    },
    {
      "cell_type": "code",
      "source": [
        "timesteps = bitcoin_prices.index.to_numpy()\n",
        "prices = bitcoin_prices[\"Price\"].to_numpy()\n",
        "\n",
        "timesteps[:10], prices[:10]"
      ],
      "metadata": {
        "colab": {
          "base_uri": "https://localhost:8080/"
        },
        "id": "ChjhI6ZTw_FD",
        "outputId": "8a172e8d-2a11-41ff-e425-47e9ee6a87e8"
      },
      "execution_count": 7,
      "outputs": [
        {
          "output_type": "execute_result",
          "data": {
            "text/plain": [
              "(array(['2013-10-01T00:00:00.000000000', '2013-10-02T00:00:00.000000000',\n",
              "        '2013-10-03T00:00:00.000000000', '2013-10-04T00:00:00.000000000',\n",
              "        '2013-10-05T00:00:00.000000000', '2013-10-06T00:00:00.000000000',\n",
              "        '2013-10-07T00:00:00.000000000', '2013-10-08T00:00:00.000000000',\n",
              "        '2013-10-09T00:00:00.000000000', '2013-10-10T00:00:00.000000000'],\n",
              "       dtype='datetime64[ns]'),\n",
              " array([123.65499, 125.455  , 108.58483, 118.67466, 121.33866, 120.65533,\n",
              "        121.795  , 123.033  , 124.049  , 125.96116]))"
            ]
          },
          "metadata": {},
          "execution_count": 7
        }
      ]
    },
    {
      "cell_type": "code",
      "source": [
        "def plot_time_series(timesteps, values, format='.', start=0, end=None, label=None):\n",
        "  mathPlotLib.plot(timesteps[start:end], values[start:end], format, label=label)\n",
        "  mathPlotLib.xlabel(\"Time\")\n",
        "  mathPlotLib.ylabel(\"BTC Price\")\n",
        "  if label:\n",
        "    mathPlotLib.legend(fontsize=14)\n",
        "  mathPlotLib.grid(True)"
      ],
      "metadata": {
        "id": "QUtNhCS42Rdo"
      },
      "execution_count": 8,
      "outputs": []
    },
    {
      "cell_type": "code",
      "source": [
        "\n",
        "\n",
        "from sklearn.model_selection import train_test_split \n",
        "\n",
        "X_train, X_test, y_train, y_test = train_test_split(timesteps,\n",
        "                                                    prices,\n",
        "                                                    test_size=0.2,\n",
        "                                                    random_state=42)\n",
        "X_train.shape, X_test.shape, y_train.shape, y_test.shape\n",
        "\n",
        "mathPlotLib.figure(figsize=(10, 7))\n",
        "plot_time_series(timesteps=X_train, values=y_train, label=\"Train data\")\n",
        "plot_time_series(timesteps=X_test, values=y_test, label=\"Test data\")"
      ],
      "metadata": {
        "colab": {
          "base_uri": "https://localhost:8080/",
          "height": 442
        },
        "id": "_pqlsZvT0nZw",
        "outputId": "7c0bc5f6-510b-4054-8495-80815cac1f87"
      },
      "execution_count": 9,
      "outputs": [
        {
          "output_type": "display_data",
          "data": {
            "text/plain": [
              "<Figure size 720x504 with 1 Axes>"
            ],
            "image/png": "[encoded data removed]"
          },
          "metadata": {
            "needs_background": "light"
          }
        }
      ]
    },
    {
      "cell_type": "code",
      "source": [
        "split_size = int(0.8 * len(prices)) # 80% train, 20% test\n",
        "X_train, y_train = timesteps[:split_size], prices[:split_size]\n",
        "X_test, y_test = timesteps[split_size:], prices[split_size:]\n",
        "\n",
        "len(X_train), len(X_test), len(y_train), len(y_test)"
      ],
      "metadata": {
        "colab": {
          "base_uri": "https://localhost:8080/"
        },
        "id": "PEFFQXKr0nrK",
        "outputId": "67012239-e569-417f-97c2-68403e2530cc"
      },
      "execution_count": 10,
      "outputs": [
        {
          "output_type": "execute_result",
          "data": {
            "text/plain": [
              "(2229, 558, 2229, 558)"
            ]
          },
          "metadata": {},
          "execution_count": 10
        }
      ]
    },
    {
      "cell_type": "code",
      "source": [
        "mathPlotLib.figure(figsize=(10, 7))\n",
        "plot_time_series(timesteps=X_train, values=y_train, label=\"Train data\")\n",
        "plot_time_series(timesteps=X_test, values=y_test, label=\"Test data\")"
      ],
      "metadata": {
        "colab": {
          "base_uri": "https://localhost:8080/",
          "height": 442
        },
        "id": "dD5rPwYG0nvd",
        "outputId": "a7691856-7bcc-4f73-b97b-b7153dfa7c96"
      },
      "execution_count": 11,
      "outputs": [
        {
          "output_type": "display_data",
          "data": {
            "text/plain": [
              "<Figure size 720x504 with 1 Axes>"
            ],
            "image/png": "[encoded data removed]"
          },
          "metadata": {
            "needs_background": "light"
          }
        }
      ]
    },
    {
      "cell_type": "code",
      "source": [
        "import tensorflow as tf\n",
        "\n",
        "HORIZON = 1\n",
        "WINDOW_SIZE = 7\n",
        "\n",
        "\n",
        "def get_labelled_windows(x, horizon=1):\n",
        "\n",
        "  return x[:, :-horizon], x[:, -horizon:]\n",
        "\n",
        "\n",
        "test_window, test_label = get_labelled_windows(tf.expand_dims(tf.range(8)+1, axis=0), horizon=HORIZON)\n",
        "print(f\"Window: {tf.squeeze(test_window).numpy()} -> Label: {tf.squeeze(test_label).numpy()}\")"
      ],
      "metadata": {
        "colab": {
          "base_uri": "https://localhost:8080/"
        },
        "id": "LSUSC_YD23x-",
        "outputId": "7e2a93a4-20c9-4b8b-cbfa-6fde36e5b5bb"
      },
      "execution_count": 12,
      "outputs": [
        {
          "output_type": "stream",
          "name": "stdout",
          "text": [
            "Window: [1 2 3 4 5 6 7] -> Label: 8\n"
          ]
        }
      ]
    },
    {
      "cell_type": "code",
      "source": [
        "import numpy as np\n",
        "\n",
        "def make_windows(x, window_size=7, horizon=1):\n",
        "  \"\"\"\n",
        "  Turns a 1D array into a 2D array of sequential windows of window_size.\n",
        "  \"\"\"\n",
        "\n",
        "  window_step = np.expand_dims(np.arange(window_size+horizon), axis=0)\n",
        "  window_indexes = window_step + np.expand_dims(np.arange(len(x)-(window_size+horizon-1)), axis=0).T\n",
        "  windowed_array = x[window_indexes]\n",
        "\n",
        "  windows, labels = get_labelled_windows(windowed_array, horizon=horizon)\n",
        "\n",
        "  return windows, labels"
      ],
      "metadata": {
        "id": "WWwyq7Ml3niA"
      },
      "execution_count": 14,
      "outputs": []
    },
    {
      "cell_type": "code",
      "source": [
        "full_windows, full_labels = make_windows(prices, window_size=WINDOW_SIZE, horizon=HORIZON)\n",
        "len(full_windows), len(full_labels)"
      ],
      "metadata": {
        "colab": {
          "base_uri": "https://localhost:8080/"
        },
        "id": "h1Z0l13G3yD7",
        "outputId": "0dff1b98-bd0b-4300-9bb1-a7f9c72dac10"
      },
      "execution_count": 15,
      "outputs": [
        {
          "output_type": "execute_result",
          "data": {
            "text/plain": [
              "(2780, 2780)"
            ]
          },
          "metadata": {},
          "execution_count": 15
        }
      ]
    },
    {
      "cell_type": "code",
      "source": [
        "\n",
        "def make_train_test_splits(windows, labels, test_split=0.2):\n",
        "  \"\"\"\n",
        "  Splits matching pairs of windows and labels into train and test splits.\n",
        "  \"\"\"\n",
        "  split_size = int(len(windows) * (1-test_split))  \n",
        "  train_windows = windows[:split_size]\n",
        "  train_labels = labels[:split_size]\n",
        "  test_windows = windows[split_size:]\n",
        "  test_labels = labels[split_size:]\n",
        "  return train_windows, test_windows, train_labels, test_labels"
      ],
      "metadata": {
        "id": "T9RyZ9hB33iG"
      },
      "execution_count": 16,
      "outputs": []
    },
    {
      "cell_type": "code",
      "source": [
        "train_windows, test_windows, train_labels, test_labels = make_train_test_splits(full_windows, full_labels)\n",
        "len(train_windows), len(test_windows), len(train_labels), len(test_labels)"
      ],
      "metadata": {
        "colab": {
          "base_uri": "https://localhost:8080/"
        },
        "id": "4PFL4M8a33k6",
        "outputId": "e7d05088-2954-4e24-f4fa-314959682445"
      },
      "execution_count": 17,
      "outputs": [
        {
          "output_type": "execute_result",
          "data": {
            "text/plain": [
              "(2224, 556, 2224, 556)"
            ]
          },
          "metadata": {},
          "execution_count": 17
        }
      ]
    },
    {
      "cell_type": "code",
      "source": [
        "import os\n",
        " \n",
        "def create_model_checkpoint(model_name, save_path=\"model_experiments\"):\n",
        "  return tf.keras.callbacks.ModelCheckpoint(filepath=os.path.join(save_path, model_name),\n",
        "                                            verbose=0,\n",
        "                                            save_best_only=True)"
      ],
      "metadata": {
        "id": "xSOK77ug4Cle"
      },
      "execution_count": 19,
      "outputs": []
    },
    {
      "cell_type": "markdown",
      "source": [
        "## Model 6: Dense (multivariate time series)"
      ],
      "metadata": {
        "id": "Dzz4Gn-l2o9q"
      }
    },
    {
      "cell_type": "code",
      "source": [
        "import tensorflow as tf\n",
        "from tensorflow.keras import layers\n",
        " \n",
        "tf.random.set_seed(42)\n",
        " \n",
        "model_1 = tf.keras.Sequential([\n",
        "  layers.Dense(128, activation=\"relu\"),\n",
        "  layers.Dense(HORIZON, activation=\"linear\")                     \n",
        "], name=\"model_1_dense\")  \n",
        " \n",
        "model_1.compile(loss=\"mae\",\n",
        "                optimizer=tf.keras.optimizers.Adam(),\n",
        "                metrics=[\"mae\"])  \n",
        " \n",
        "model_1.fit(x=train_windows,  \n",
        "            y=train_labels, \n",
        "            epochs=100,\n",
        "            verbose=1,\n",
        "            batch_size=128,\n",
        "            validation_data=(test_windows, test_labels),\n",
        "            callbacks=[create_model_checkpoint(model_name=model_1.name)]) "
      ],
      "metadata": {
        "colab": {
          "base_uri": "https://localhost:8080/"
        },
        "id": "fC5LOBVw2ogs",
        "outputId": "0f61f4f5-b081-4e74-a046-602d027cc193"
      },
      "execution_count": 21,
      "outputs": [
        {
          "output_type": "stream",
          "name": "stdout",
          "text": [
            "Epoch 1/100\n",
            " 1/18 [>.............................] - ETA: 6s - loss: 2111.0571 - mae: 2111.0571INFO:tensorflow:Assets written to: model_experiments/model_1_dense/assets\n",
            "18/18 [==============================] - 1s 36ms/step - loss: 780.3469 - mae: 780.3469 - val_loss: 2279.5828 - val_mae: 2279.5828\n",
            "Epoch 2/100\n",
            " 1/18 [>.............................] - ETA: 0s - loss: 348.8778 - mae: 348.8778INFO:tensorflow:Assets written to: model_experiments/model_1_dense/assets\n",
            "18/18 [==============================] - 1s 30ms/step - loss: 247.6765 - mae: 247.6765 - val_loss: 1005.9864 - val_mae: 1005.9864\n",
            "Epoch 3/100\n",
            " 1/18 [>.............................] - ETA: 0s - loss: 134.4844 - mae: 134.4844INFO:tensorflow:Assets written to: model_experiments/model_1_dense/assets\n",
            "18/18 [==============================] - 1s 30ms/step - loss: 188.4107 - mae: 188.4107 - val_loss: 923.2859 - val_mae: 923.2859\n",
            "Epoch 4/100\n",
            " 1/18 [>.............................] - ETA: 0s - loss: 211.3675 - mae: 211.3675INFO:tensorflow:Assets written to: model_experiments/model_1_dense/assets\n",
            "18/18 [==============================] - 1s 45ms/step - loss: 169.4334 - mae: 169.4334 - val_loss: 900.5932 - val_mae: 900.5932\n",
            "Epoch 5/100\n",
            " 1/18 [>.............................] - ETA: 0s - loss: 155.7283 - mae: 155.7283INFO:tensorflow:Assets written to: model_experiments/model_1_dense/assets\n",
            "18/18 [==============================] - 1s 30ms/step - loss: 165.0900 - mae: 165.0900 - val_loss: 895.2405 - val_mae: 895.2405\n",
            "Epoch 6/100\n",
            " 1/18 [>.............................] - ETA: 0s - loss: 117.3697 - mae: 117.3697INFO:tensorflow:Assets written to: model_experiments/model_1_dense/assets\n",
            "18/18 [==============================] - 1s 31ms/step - loss: 158.5206 - mae: 158.5206 - val_loss: 855.1868 - val_mae: 855.1868\n",
            "Epoch 7/100\n",
            " 1/18 [>.............................] - ETA: 0s - loss: 180.3330 - mae: 180.3330INFO:tensorflow:Assets written to: model_experiments/model_1_dense/assets\n",
            "18/18 [==============================] - 1s 30ms/step - loss: 151.3568 - mae: 151.3568 - val_loss: 840.9290 - val_mae: 840.9290\n",
            "Epoch 8/100\n",
            " 1/18 [>.............................] - ETA: 0s - loss: 121.1151 - mae: 121.1151INFO:tensorflow:Assets written to: model_experiments/model_1_dense/assets\n",
            "18/18 [==============================] - 1s 30ms/step - loss: 145.2560 - mae: 145.2560 - val_loss: 803.6005 - val_mae: 803.6005\n",
            "Epoch 9/100\n",
            " 1/18 [>.............................] - ETA: 0s - loss: 126.2221 - mae: 126.2221INFO:tensorflow:Assets written to: model_experiments/model_1_dense/assets\n",
            "18/18 [==============================] - 1s 31ms/step - loss: 144.3546 - mae: 144.3546 - val_loss: 799.5592 - val_mae: 799.5592\n",
            "Epoch 10/100\n",
            " 1/18 [>.............................] - ETA: 0s - loss: 148.4518 - mae: 148.4518INFO:tensorflow:Assets written to: model_experiments/model_1_dense/assets\n",
            "18/18 [==============================] - 1s 31ms/step - loss: 141.2944 - mae: 141.2944 - val_loss: 763.5060 - val_mae: 763.5060\n",
            "Epoch 11/100\n",
            "18/18 [==============================] - 0s 4ms/step - loss: 135.6591 - mae: 135.6591 - val_loss: 771.3525 - val_mae: 771.3525\n",
            "Epoch 12/100\n",
            "18/18 [==============================] - 0s 4ms/step - loss: 134.1702 - mae: 134.1702 - val_loss: 782.8326 - val_mae: 782.8325\n",
            "Epoch 13/100\n",
            "18/18 [==============================] - 0s 5ms/step - loss: 134.6014 - mae: 134.6014 - val_loss: 784.4728 - val_mae: 784.4728\n",
            "Epoch 14/100\n",
            " 1/18 [>.............................] - ETA: 0s - loss: 136.5616 - mae: 136.5616INFO:tensorflow:Assets written to: model_experiments/model_1_dense/assets\n",
            "18/18 [==============================] - 1s 31ms/step - loss: 130.6125 - mae: 130.6125 - val_loss: 751.3470 - val_mae: 751.3470\n",
            "Epoch 15/100\n",
            " 1/18 [>.............................] - ETA: 0s - loss: 131.5395 - mae: 131.5395INFO:tensorflow:Assets written to: model_experiments/model_1_dense/assets\n",
            "18/18 [==============================] - 0s 29ms/step - loss: 128.8352 - mae: 128.8352 - val_loss: 696.5837 - val_mae: 696.5837\n",
            "Epoch 16/100\n",
            "18/18 [==============================] - 0s 4ms/step - loss: 124.8667 - mae: 124.8667 - val_loss: 707.2988 - val_mae: 707.2988\n",
            "Epoch 17/100\n",
            "18/18 [==============================] - 0s 4ms/step - loss: 123.6096 - mae: 123.6096 - val_loss: 714.2291 - val_mae: 714.2291\n",
            "Epoch 18/100\n",
            " 1/18 [>.............................] - ETA: 0s - loss: 138.5527 - mae: 138.5527INFO:tensorflow:Assets written to: model_experiments/model_1_dense/assets\n",
            "18/18 [==============================] - 1s 29ms/step - loss: 122.3023 - mae: 122.3023 - val_loss: 669.1414 - val_mae: 669.1414\n",
            "Epoch 19/100\n",
            "18/18 [==============================] - 0s 4ms/step - loss: 121.4932 - mae: 121.4932 - val_loss: 721.5452 - val_mae: 721.5452\n",
            "Epoch 20/100\n",
            " 1/18 [>.............................] - ETA: 0s - loss: 135.4132 - mae: 135.4132INFO:tensorflow:Assets written to: model_experiments/model_1_dense/assets\n",
            "18/18 [==============================] - 1s 32ms/step - loss: 119.2384 - mae: 119.2384 - val_loss: 658.0786 - val_mae: 658.0786\n",
            "Epoch 21/100\n",
            " 1/18 [>.............................] - ETA: 0s - loss: 128.8736 - mae: 128.8736INFO:tensorflow:Assets written to: model_experiments/model_1_dense/assets\n",
            "18/18 [==============================] - 1s 30ms/step - loss: 121.5293 - mae: 121.5293 - val_loss: 638.3386 - val_mae: 638.3386\n",
            "Epoch 22/100\n",
            "18/18 [==============================] - 0s 3ms/step - loss: 119.3422 - mae: 119.3422 - val_loss: 678.8881 - val_mae: 678.8881\n",
            "Epoch 23/100\n",
            "18/18 [==============================] - 0s 4ms/step - loss: 122.8203 - mae: 122.8203 - val_loss: 651.8512 - val_mae: 651.8512\n",
            "Epoch 24/100\n",
            " 1/18 [>.............................] - ETA: 0s - loss: 125.6553 - mae: 125.6553INFO:tensorflow:Assets written to: model_experiments/model_1_dense/assets\n",
            "18/18 [==============================] - 1s 30ms/step - loss: 117.0774 - mae: 117.0774 - val_loss: 623.5611 - val_mae: 623.5611\n",
            "Epoch 25/100\n",
            " 1/18 [>.............................] - ETA: 0s - loss: 122.1502 - mae: 122.1502INFO:tensorflow:Assets written to: model_experiments/model_1_dense/assets\n",
            "18/18 [==============================] - 1s 45ms/step - loss: 115.1816 - mae: 115.1816 - val_loss: 618.5576 - val_mae: 618.5576\n",
            "Epoch 26/100\n",
            " 1/18 [>.............................] - ETA: 0s - loss: 109.7064 - mae: 109.7064INFO:tensorflow:Assets written to: model_experiments/model_1_dense/assets\n",
            "18/18 [==============================] - 0s 29ms/step - loss: 115.0673 - mae: 115.0673 - val_loss: 616.4918 - val_mae: 616.4918\n",
            "Epoch 27/100\n",
            "18/18 [==============================] - 0s 5ms/step - loss: 116.6431 - mae: 116.6431 - val_loss: 619.0472 - val_mae: 619.0472\n",
            "Epoch 28/100\n",
            " 1/18 [>.............................] - ETA: 0s - loss: 102.1523 - mae: 102.1523INFO:tensorflow:Assets written to: model_experiments/model_1_dense/assets\n",
            "18/18 [==============================] - 1s 32ms/step - loss: 114.0328 - mae: 114.0328 - val_loss: 610.3879 - val_mae: 610.3879\n",
            "Epoch 29/100\n",
            "18/18 [==============================] - 0s 4ms/step - loss: 113.4892 - mae: 113.4892 - val_loss: 617.2401 - val_mae: 617.2401\n",
            "Epoch 30/100\n",
            " 1/18 [>.............................] - ETA: 0s - loss: 124.6252 - mae: 124.6252INFO:tensorflow:Assets written to: model_experiments/model_1_dense/assets\n",
            "18/18 [==============================] - 1s 30ms/step - loss: 116.4094 - mae: 116.4094 - val_loss: 603.6490 - val_mae: 603.6490\n",
            "Epoch 31/100\n",
            "18/18 [==============================] - 0s 5ms/step - loss: 112.3454 - mae: 112.3454 - val_loss: 623.4434 - val_mae: 623.4434\n",
            "Epoch 32/100\n",
            " 1/18 [>.............................] - ETA: 0s - loss: 110.3431 - mae: 110.3431INFO:tensorflow:Assets written to: model_experiments/model_1_dense/assets\n",
            "18/18 [==============================] - 1s 31ms/step - loss: 113.2056 - mae: 113.2056 - val_loss: 600.0261 - val_mae: 600.0261\n",
            "Epoch 33/100\n",
            "18/18 [==============================] - 0s 4ms/step - loss: 112.9529 - mae: 112.9529 - val_loss: 653.0604 - val_mae: 653.0604\n",
            "Epoch 34/100\n",
            " 1/18 [>.............................] - ETA: 0s - loss: 140.4313 - mae: 140.4313INFO:tensorflow:Assets written to: model_experiments/model_1_dense/assets\n",
            "18/18 [==============================] - 1s 30ms/step - loss: 112.1157 - mae: 112.1157 - val_loss: 594.7913 - val_mae: 594.7913\n",
            "Epoch 35/100\n",
            " 1/18 [>.............................] - ETA: 0s - loss: 100.0623 - mae: 100.0623INFO:tensorflow:Assets written to: model_experiments/model_1_dense/assets\n",
            "18/18 [==============================] - 1s 31ms/step - loss: 110.7447 - mae: 110.7447 - val_loss: 592.7401 - val_mae: 592.7401\n",
            "Epoch 36/100\n",
            " 1/18 [>.............................] - ETA: 0s - loss: 149.3917 - mae: 149.3917INFO:tensorflow:Assets written to: model_experiments/model_1_dense/assets\n",
            "18/18 [==============================] - 1s 69ms/step - loss: 116.3301 - mae: 116.3301 - val_loss: 592.4697 - val_mae: 592.4697\n",
            "Epoch 37/100\n",
            "18/18 [==============================] - 0s 4ms/step - loss: 110.7676 - mae: 110.7676 - val_loss: 618.5350 - val_mae: 618.5350\n",
            "Epoch 38/100\n",
            "18/18 [==============================] - 0s 5ms/step - loss: 112.5935 - mae: 112.5935 - val_loss: 613.9557 - val_mae: 613.9557\n",
            "Epoch 39/100\n",
            " 1/18 [>.............................] - ETA: 0s - loss: 128.7077 - mae: 128.7077INFO:tensorflow:Assets written to: model_experiments/model_1_dense/assets\n",
            "18/18 [==============================] - 1s 67ms/step - loss: 110.1321 - mae: 110.1321 - val_loss: 586.6888 - val_mae: 586.6888\n",
            "Epoch 40/100\n",
            "18/18 [==============================] - 0s 4ms/step - loss: 109.4753 - mae: 109.4753 - val_loss: 593.9153 - val_mae: 593.9153\n",
            "Epoch 41/100\n",
            " 1/18 [>.............................] - ETA: 0s - loss: 105.0374 - mae: 105.0374INFO:tensorflow:Assets written to: model_experiments/model_1_dense/assets\n",
            "18/18 [==============================] - 1s 31ms/step - loss: 110.1777 - mae: 110.1777 - val_loss: 586.4465 - val_mae: 586.4465\n",
            "Epoch 42/100\n",
            "18/18 [==============================] - 0s 3ms/step - loss: 111.5192 - mae: 111.5192 - val_loss: 649.3650 - val_mae: 649.3650\n",
            "Epoch 43/100\n",
            "18/18 [==============================] - 0s 4ms/step - loss: 115.8939 - mae: 115.8939 - val_loss: 686.8293 - val_mae: 686.8293\n",
            "Epoch 44/100\n",
            "18/18 [==============================] - 0s 4ms/step - loss: 123.0945 - mae: 123.0945 - val_loss: 661.1304 - val_mae: 661.1304\n",
            "Epoch 45/100\n",
            "18/18 [==============================] - 0s 5ms/step - loss: 113.8169 - mae: 113.8169 - val_loss: 626.8177 - val_mae: 626.8177\n",
            "Epoch 46/100\n",
            "18/18 [==============================] - 0s 4ms/step - loss: 114.0971 - mae: 114.0971 - val_loss: 588.7769 - val_mae: 588.7769\n",
            "Epoch 47/100\n",
            "18/18 [==============================] - 0s 4ms/step - loss: 108.9936 - mae: 108.9936 - val_loss: 636.0583 - val_mae: 636.0583\n",
            "Epoch 48/100\n",
            "18/18 [==============================] - 0s 4ms/step - loss: 109.2967 - mae: 109.2967 - val_loss: 604.1586 - val_mae: 604.1586\n",
            "Epoch 49/100\n",
            "18/18 [==============================] - 0s 5ms/step - loss: 111.7787 - mae: 111.7787 - val_loss: 591.5096 - val_mae: 591.5096\n",
            "Epoch 50/100\n",
            "18/18 [==============================] - 0s 4ms/step - loss: 111.7319 - mae: 111.7319 - val_loss: 636.4677 - val_mae: 636.4677\n",
            "Epoch 51/100\n",
            "18/18 [==============================] - 0s 3ms/step - loss: 110.7498 - mae: 110.7498 - val_loss: 589.2878 - val_mae: 589.2878\n",
            "Epoch 52/100\n",
            "18/18 [==============================] - 0s 4ms/step - loss: 111.5193 - mae: 111.5193 - val_loss: 609.5289 - val_mae: 609.5289\n",
            "Epoch 53/100\n",
            " 1/18 [>.............................] - ETA: 0s - loss: 63.2880 - mae: 63.2880INFO:tensorflow:Assets written to: model_experiments/model_1_dense/assets\n",
            "18/18 [==============================] - 1s 31ms/step - loss: 113.9868 - mae: 113.9868 - val_loss: 584.7471 - val_mae: 584.7471\n",
            "Epoch 54/100\n",
            " 1/18 [>.............................] - ETA: 0s - loss: 98.4018 - mae: 98.4018INFO:tensorflow:Assets written to: model_experiments/model_1_dense/assets\n",
            "18/18 [==============================] - 1s 31ms/step - loss: 110.1075 - mae: 110.1075 - val_loss: 578.7416 - val_mae: 578.7416\n",
            "Epoch 55/100\n",
            "18/18 [==============================] - 0s 4ms/step - loss: 110.6423 - mae: 110.6423 - val_loss: 581.5333 - val_mae: 581.5333\n",
            "Epoch 56/100\n",
            "18/18 [==============================] - 0s 4ms/step - loss: 107.6537 - mae: 107.6537 - val_loss: 759.0189 - val_mae: 759.0189\n",
            "Epoch 57/100\n",
            "18/18 [==============================] - 0s 4ms/step - loss: 119.2012 - mae: 119.2012 - val_loss: 603.5953 - val_mae: 603.5953\n",
            "Epoch 58/100\n",
            "18/18 [==============================] - 0s 4ms/step - loss: 116.4417 - mae: 116.4417 - val_loss: 583.7296 - val_mae: 583.7296\n",
            "Epoch 59/100\n",
            "18/18 [==============================] - 0s 3ms/step - loss: 109.9014 - mae: 109.9014 - val_loss: 592.8416 - val_mae: 592.8416\n",
            "Epoch 60/100\n",
            "18/18 [==============================] - 0s 3ms/step - loss: 107.7859 - mae: 107.7859 - val_loss: 593.4969 - val_mae: 593.4969\n",
            "Epoch 61/100\n",
            " 1/18 [>.............................] - ETA: 0s - loss: 130.6454 - mae: 130.6454INFO:tensorflow:Assets written to: model_experiments/model_1_dense/assets\n",
            "18/18 [==============================] - 1s 30ms/step - loss: 107.6960 - mae: 107.6960 - val_loss: 575.5123 - val_mae: 575.5123\n",
            "Epoch 62/100\n",
            "18/18 [==============================] - 0s 4ms/step - loss: 107.1257 - mae: 107.1257 - val_loss: 580.2645 - val_mae: 580.2645\n",
            "Epoch 63/100\n",
            "18/18 [==============================] - 0s 4ms/step - loss: 111.8451 - mae: 111.8451 - val_loss: 654.6143 - val_mae: 654.6143\n",
            "Epoch 64/100\n",
            "18/18 [==============================] - 0s 4ms/step - loss: 110.3121 - mae: 110.3121 - val_loss: 610.7810 - val_mae: 610.7810\n",
            "Epoch 65/100\n",
            " 1/18 [>.............................] - ETA: 0s - loss: 131.5208 - mae: 131.5208INFO:tensorflow:Assets written to: model_experiments/model_1_dense/assets\n",
            "18/18 [==============================] - 1s 30ms/step - loss: 109.7098 - mae: 109.7098 - val_loss: 573.9960 - val_mae: 573.9960\n",
            "Epoch 66/100\n",
            " 1/18 [>.............................] - ETA: 0s - loss: 112.4866 - mae: 112.4866INFO:tensorflow:Assets written to: model_experiments/model_1_dense/assets\n",
            "18/18 [==============================] - 1s 30ms/step - loss: 106.8139 - mae: 106.8139 - val_loss: 572.9989 - val_mae: 572.9989\n",
            "Epoch 67/100\n",
            "18/18 [==============================] - 0s 4ms/step - loss: 106.1394 - mae: 106.1394 - val_loss: 602.1524 - val_mae: 602.1524\n",
            "Epoch 68/100\n",
            "18/18 [==============================] - 0s 4ms/step - loss: 112.9245 - mae: 112.9245 - val_loss: 687.6375 - val_mae: 687.6375\n",
            "Epoch 69/100\n",
            "18/18 [==============================] - 0s 4ms/step - loss: 126.9916 - mae: 126.9916 - val_loss: 664.9473 - val_mae: 664.9473\n",
            "Epoch 70/100\n",
            "18/18 [==============================] - 0s 5ms/step - loss: 124.8734 - mae: 124.8734 - val_loss: 619.6686 - val_mae: 619.6686\n",
            "Epoch 71/100\n",
            "18/18 [==============================] - 0s 3ms/step - loss: 109.8522 - mae: 109.8522 - val_loss: 582.3637 - val_mae: 582.3637\n",
            "Epoch 72/100\n",
            "18/18 [==============================] - 0s 3ms/step - loss: 107.6717 - mae: 107.6717 - val_loss: 573.4947 - val_mae: 573.4947\n",
            "Epoch 73/100\n",
            "18/18 [==============================] - 0s 4ms/step - loss: 109.6036 - mae: 109.6036 - val_loss: 583.9045 - val_mae: 583.9045\n",
            "Epoch 74/100\n",
            " 1/18 [>.............................] - ETA: 0s - loss: 165.4990 - mae: 165.4990INFO:tensorflow:Assets written to: model_experiments/model_1_dense/assets\n",
            "18/18 [==============================] - 1s 30ms/step - loss: 107.7049 - mae: 107.7049 - val_loss: 572.9933 - val_mae: 572.9933\n",
            "Epoch 75/100\n",
            "18/18 [==============================] - 0s 5ms/step - loss: 108.1179 - mae: 108.1179 - val_loss: 583.9372 - val_mae: 583.9372\n",
            "Epoch 76/100\n",
            "18/18 [==============================] - 0s 5ms/step - loss: 109.5447 - mae: 109.5447 - val_loss: 592.8235 - val_mae: 592.8235\n",
            "Epoch 77/100\n",
            "18/18 [==============================] - 0s 3ms/step - loss: 108.3639 - mae: 108.3639 - val_loss: 575.4260 - val_mae: 575.4260\n",
            "Epoch 78/100\n",
            "18/18 [==============================] - 0s 3ms/step - loss: 108.0055 - mae: 108.0055 - val_loss: 574.3941 - val_mae: 574.3941\n",
            "Epoch 79/100\n",
            "18/18 [==============================] - 0s 4ms/step - loss: 107.3223 - mae: 107.3223 - val_loss: 597.2478 - val_mae: 597.2478\n",
            "Epoch 80/100\n",
            "18/18 [==============================] - 0s 4ms/step - loss: 108.1452 - mae: 108.1452 - val_loss: 586.6866 - val_mae: 586.6866\n",
            "Epoch 81/100\n",
            "18/18 [==============================] - 0s 4ms/step - loss: 106.1153 - mae: 106.1153 - val_loss: 575.1765 - val_mae: 575.1765\n",
            "Epoch 82/100\n",
            "18/18 [==============================] - 0s 4ms/step - loss: 116.6344 - mae: 116.6344 - val_loss: 575.4340 - val_mae: 575.4340\n",
            "Epoch 83/100\n",
            "18/18 [==============================] - 0s 3ms/step - loss: 110.8731 - mae: 110.8731 - val_loss: 654.5366 - val_mae: 654.5366\n",
            "Epoch 84/100\n",
            " 1/18 [>.............................] - ETA: 0s - loss: 118.1785 - mae: 118.1785INFO:tensorflow:Assets written to: model_experiments/model_1_dense/assets\n",
            "18/18 [==============================] - 1s 45ms/step - loss: 111.9106 - mae: 111.9106 - val_loss: 572.3373 - val_mae: 572.3373\n",
            "Epoch 85/100\n",
            "18/18 [==============================] - 0s 4ms/step - loss: 106.6154 - mae: 106.6154 - val_loss: 574.2833 - val_mae: 574.2833\n",
            "Epoch 86/100\n",
            "18/18 [==============================] - 0s 4ms/step - loss: 108.4299 - mae: 108.4299 - val_loss: 583.3530 - val_mae: 583.3530\n",
            "Epoch 87/100\n",
            "18/18 [==============================] - 0s 5ms/step - loss: 105.7481 - mae: 105.7481 - val_loss: 593.0121 - val_mae: 593.0121\n",
            "Epoch 88/100\n",
            " 1/18 [>.............................] - ETA: 0s - loss: 133.8443 - mae: 133.8443INFO:tensorflow:Assets written to: model_experiments/model_1_dense/assets\n",
            "18/18 [==============================] - 1s 30ms/step - loss: 107.2604 - mae: 107.2604 - val_loss: 571.7658 - val_mae: 571.7658\n",
            "Epoch 89/100\n",
            " 1/18 [>.............................] - ETA: 0s - loss: 102.2973 - mae: 102.2973INFO:tensorflow:Assets written to: model_experiments/model_1_dense/assets\n",
            "18/18 [==============================] - 1s 30ms/step - loss: 106.7823 - mae: 106.7823 - val_loss: 568.6370 - val_mae: 568.6370\n",
            "Epoch 90/100\n",
            "18/18 [==============================] - 0s 4ms/step - loss: 105.8682 - mae: 105.8682 - val_loss: 602.9690 - val_mae: 602.9690\n",
            "Epoch 91/100\n",
            "18/18 [==============================] - 0s 4ms/step - loss: 110.6365 - mae: 110.6365 - val_loss: 605.6947 - val_mae: 605.6947\n",
            "Epoch 92/100\n",
            "18/18 [==============================] - 0s 4ms/step - loss: 109.4668 - mae: 109.4668 - val_loss: 572.4370 - val_mae: 572.4370\n",
            "Epoch 93/100\n",
            "18/18 [==============================] - 0s 3ms/step - loss: 113.0063 - mae: 113.0063 - val_loss: 617.3001 - val_mae: 617.3001\n",
            "Epoch 94/100\n",
            "18/18 [==============================] - 0s 4ms/step - loss: 112.4903 - mae: 112.4903 - val_loss: 599.9803 - val_mae: 599.9803\n",
            "Epoch 95/100\n",
            "18/18 [==============================] - 0s 4ms/step - loss: 106.0053 - mae: 106.0053 - val_loss: 570.6210 - val_mae: 570.6210\n",
            "Epoch 96/100\n",
            "18/18 [==============================] - 0s 4ms/step - loss: 109.5910 - mae: 109.5910 - val_loss: 676.3395 - val_mae: 676.3395\n",
            "Epoch 97/100\n",
            "18/18 [==============================] - 0s 4ms/step - loss: 110.2213 - mae: 110.2213 - val_loss: 574.2988 - val_mae: 574.2988\n",
            "Epoch 98/100\n",
            "18/18 [==============================] - 0s 4ms/step - loss: 106.7290 - mae: 106.7290 - val_loss: 576.7734 - val_mae: 576.7734\n",
            "Epoch 99/100\n",
            " 1/18 [>.............................] - ETA: 0s - loss: 151.1014 - mae: 151.1014INFO:tensorflow:Assets written to: model_experiments/model_1_dense/assets\n",
            "18/18 [==============================] - 1s 30ms/step - loss: 106.9889 - mae: 106.9889 - val_loss: 568.5499 - val_mae: 568.5499\n",
            "Epoch 100/100\n",
            "18/18 [==============================] - 0s 4ms/step - loss: 117.7622 - mae: 117.7622 - val_loss: 662.5322 - val_mae: 662.5322\n"
          ]
        },
        {
          "output_type": "execute_result",
          "data": {
            "text/plain": [
              "<keras.callbacks.History at 0x7ff5b8831f90>"
            ]
          },
          "metadata": {},
          "execution_count": 21
        }
      ]
    },
    {
      "cell_type": "code",
      "source": [
        " \n",
        "\n",
        "model_1 = tf.keras.models.load_model(\"model_experiments/model_1_dense\")\n",
        "model_1.evaluate(test_windows, test_labels)"
      ],
      "metadata": {
        "colab": {
          "base_uri": "https://localhost:8080/"
        },
        "id": "Txu7sSzF2WDI",
        "outputId": "c0550af9-faaa-41e3-bd7f-7622c9a70ac9"
      },
      "execution_count": 27,
      "outputs": [
        {
          "output_type": "stream",
          "name": "stdout",
          "text": [
            "18/18 [==============================] - 0s 2ms/step - loss: 568.5499 - mae: 568.5499\n"
          ]
        },
        {
          "output_type": "execute_result",
          "data": {
            "text/plain": [
              "[568.5498657226562, 568.5498657226562]"
            ]
          },
          "metadata": {},
          "execution_count": 27
        }
      ]
    },
    {
      "cell_type": "code",
      "source": [
        "def make_preds(model, input_data):\n",
        "  \"\"\"\n",
        "  Uses model to make predictions on input_data.\n",
        "\n",
        "  Parameters\n",
        "  ----------\n",
        "  model: trained model \n",
        "  input_data: windowed input data (same kind of data model was trained on)\n",
        "\n",
        "  Returns model predictions on input_data.\n",
        "  \"\"\"\n",
        "  forecast = model.predict(input_data)\n",
        "  return tf.squeeze(forecast)  "
      ],
      "metadata": {
        "id": "T1n9sQZCtfyf"
      },
      "execution_count": 39,
      "outputs": []
    },
    {
      "cell_type": "code",
      "source": [
        "\n",
        "model_1_preds = make_preds(model_1, test_windows)\n",
        "len(model_1_preds), model_1_preds[:10]"
      ],
      "metadata": {
        "colab": {
          "base_uri": "https://localhost:8080/"
        },
        "id": "S08X1LeR2WFW",
        "outputId": "f8b98d2a-5df9-415e-de65-10f492872c56"
      },
      "execution_count": 31,
      "outputs": [
        {
          "output_type": "execute_result",
          "data": {
            "text/plain": [
              "(556, <tf.Tensor: shape=(10,), dtype=float32, numpy=\n",
              " array([8874.493, 8789.944, 9040.986, 8804.829, 8741.21 , 8749.835,\n",
              "        8705.865, 8513.171, 8478.415, 8536.302], dtype=float32)>)"
            ]
          },
          "metadata": {},
          "execution_count": 31
        }
      ]
    },
    {
      "cell_type": "code",
      "source": [
        " \n",
        "model_1_results = evaluate_preds(y_true=tf.squeeze(test_labels),  \n",
        "                                 y_pred=model_1_preds)\n",
        "model_1_results"
      ],
      "metadata": {
        "colab": {
          "base_uri": "https://localhost:8080/"
        },
        "id": "qHlH5JIR2WH4",
        "outputId": "5fc17d13-0ac5-400e-e2bb-d6b3c6d94447"
      },
      "execution_count": 35,
      "outputs": [
        {
          "output_type": "execute_result",
          "data": {
            "text/plain": [
              "{'mae': 568.5498,\n",
              " 'mape': 2.549229,\n",
              " 'mase': 0.99878454,\n",
              " 'mse': 1172587.6,\n",
              " 'rmse': 1082.8608}"
            ]
          },
          "metadata": {},
          "execution_count": 35
        }
      ]
    },
    {
      "cell_type": "code",
      "source": [
        "import matplotlib.pyplot as plt\n",
        "\n",
        "offset = 300\n",
        "plt.figure(figsize=(10, 7))\n",
        "plot_time_series(timesteps=X_test[-len(test_windows):], values=test_labels[:, 0], start=offset, label=\"Test_data\")\n",
        "plot_time_series(timesteps=X_test[-len(test_windows):], values=model_1_preds, start=offset, format=\"-\", label=\"model_1_preds\")"
      ],
      "metadata": {
        "colab": {
          "base_uri": "https://localhost:8080/",
          "height": 442
        },
        "id": "YGiIYnzqtvTM",
        "outputId": "6ae0d351-8103-4d3a-8b6b-b4b9652601a5"
      },
      "execution_count": 38,
      "outputs": [
        {
          "output_type": "display_data",
          "data": {
            "text/plain": [
              "<Figure size 720x504 with 1 Axes>"
            ],
            "image/png": "[encoded data removed]"
          },
          "metadata": {
            "needs_background": "light"
          }
        }
      ]
    },
    {
      "cell_type": "markdown",
      "source": [
        "## Висновок\n",
        "На даній лабораторній роботі було виконано прогнозування часових рядів на прикладі графіку біткоіна."
      ],
      "metadata": {
        "id": "hzQhVfWQwG3-"
      }
    }
  ]
}