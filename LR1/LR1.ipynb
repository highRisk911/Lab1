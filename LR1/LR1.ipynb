{
  "nbformat": 4,
  "nbformat_minor": 0,
  "metadata": {
    "colab": {
      "name": "LR1.ipynb",
      "provenance": [],
      "collapsed_sections": [
        "Mx7rDoHfGUoQ"
      ],
      "include_colab_link": true
    },
    "kernelspec": {
      "name": "python3",
      "display_name": "Python 3"
    },
    "language_info": {
      "name": "python"
    },
    "accelerator": "GPU"
  },
  "cells": [
    {
      "cell_type": "markdown",
      "metadata": {
        "id": "view-in-github",
        "colab_type": "text"
      },
      "source": [
        "<a href=\"https://colab.research.google.com/github/highRisk911/Lab1/blob/main/LR1.ipynb\" target=\"_parent\"><img src=\"https://colab.research.google.com/assets/colab-badge.svg\" alt=\"Open In Colab\"/></a>"
      ]
    },
    {
      "cell_type": "markdown",
      "source": [
        "# Лабораторна робота №1\n",
        "# Іщенка Дмитра Романовича \n"
      ],
      "metadata": {
        "id": "g_MBzYaNTx3W"
      }
    },
    {
      "cell_type": "code",
      "execution_count": null,
      "metadata": {
        "id": "1tOkVwtWvcSh"
      },
      "outputs": [],
      "source": [
        "import numpy as np\n",
        "import pandas as pd\n",
        "import matplotlib.pyplot as plt"
      ]
    },
    {
      "cell_type": "markdown",
      "source": [
        "# NumPy"
      ],
      "metadata": {
        "id": "uBwPA0ARvgUF"
      }
    },
    {
      "cell_type": "markdown",
      "source": [
        "## create, insert, reshape, delete"
      ],
      "metadata": {
        "id": "X-CQxvNiTrKd"
      }
    },
    {
      "cell_type": "code",
      "source": [
        "matrix_of_ones = np.ones([2, 4]) # matrix of ones\n",
        "print(matrix_of_ones)\n",
        "\n",
        "indent_matrix = np.identity(3) # create matrix with ones on diagonal\n",
        "print(indent_matrix)\n",
        "\n",
        "set_of_data = np.array([1, 2, 3, 4, 5, 6])  \n",
        "print(set_of_data.shape)\n",
        "\n",
        "set_of_data = np.reshape(set_of_data, (2, 3))  \n",
        "\n",
        "print(np.reshape(set_of_data, (np.dot(set_of_data.shape[0], set_of_data.shape[1]), 1)))  \n",
        "print(np.delete(set_of_data, 0, 1))  \n",
        "\n",
        "print(np.append(set_of_data, [[9, 9, 9]], axis=0))  "
      ],
      "metadata": {
        "colab": {
          "base_uri": "https://localhost:8080/"
        },
        "id": "XypSz6QLvjp5",
        "outputId": "db150c6e-fa64-48fe-a844-84922f6e024a"
      },
      "execution_count": null,
      "outputs": [
        {
          "output_type": "stream",
          "name": "stdout",
          "text": [
            "[[1. 1. 1. 1.]\n",
            " [1. 1. 1. 1.]]\n",
            "[[1. 0. 0.]\n",
            " [0. 1. 0.]\n",
            " [0. 0. 1.]]\n",
            "(6,)\n",
            "[[1]\n",
            " [2]\n",
            " [3]\n",
            " [4]\n",
            " [5]\n",
            " [6]]\n",
            "[[2 3]\n",
            " [5 6]]\n",
            "[[1 2 3]\n",
            " [4 5 6]]\n",
            "[[1 2 3]\n",
            " [4 5 6]\n",
            " [9 9 9]]\n"
          ]
        }
      ]
    },
    {
      "cell_type": "markdown",
      "source": [
        "## math operations, dot, find max/min"
      ],
      "metadata": {
        "id": "SFX6EzhXuovW"
      }
    },
    {
      "cell_type": "code",
      "source": [
        "arr = np.array([1, 2, 3, 4])\n",
        "\n",
        " \n",
        "print(np.dot(arr, arr.T))\n",
        "\n",
        "print(arr * 5)\n",
        "print(arr * 2 + 10)\n",
        "\n",
        "print(arr.max())  \n",
        "print(arr.min())  \n",
        "\n",
        "matrix = np.random.randn(5, 3)  \n",
        "print(matrix)\n",
        "\n",
        "print(f'Max in row: {matrix.max(axis=0)}, max in column: {matrix.max(axis=1)}') "
      ],
      "metadata": {
        "id": "FhJ78nxITpvh",
        "colab": {
          "base_uri": "https://localhost:8080/"
        },
        "outputId": "64dfdaf6-9ea3-45a7-863d-8737287b05d8"
      },
      "execution_count": null,
      "outputs": [
        {
          "output_type": "stream",
          "name": "stdout",
          "text": [
            "30\n",
            "[ 5 10 15 20]\n",
            "[12 14 16 18]\n",
            "4\n",
            "1\n",
            "[[-1.22308674 -0.40153724  1.40604919]\n",
            " [-1.8539022   0.2517612   1.10469799]\n",
            " [-0.04092034 -1.62780485  0.3414621 ]\n",
            " [-1.92055958  0.33781391  0.41535432]\n",
            " [-0.48536587 -0.85108049  0.88779711]]\n",
            "Max in row: [-0.04092034  0.33781391  1.40604919], max in column: [1.40604919 1.10469799 0.3414621  0.41535432 0.88779711]\n"
          ]
        }
      ]
    },
    {
      "cell_type": "markdown",
      "source": [
        "## arange, random"
      ],
      "metadata": {
        "id": "TI-dzlyuvss0"
      }
    },
    {
      "cell_type": "markdown",
      "source": [
        ""
      ],
      "metadata": {
        "id": "hIEqxBg9vZDv"
      }
    },
    {
      "cell_type": "code",
      "source": [
        "linear = np.arange(1, 10, 2)  \n",
        "print(linear)\n",
        "\n",
        "random = np.random.randn(10, 2)  \n",
        "print(random)"
      ],
      "metadata": {
        "colab": {
          "base_uri": "https://localhost:8080/"
        },
        "id": "6TSfDm0qvwmJ",
        "outputId": "ba6cbec6-c019-4f79-b373-3ecd8d8c7ac4"
      },
      "execution_count": null,
      "outputs": [
        {
          "output_type": "stream",
          "name": "stdout",
          "text": [
            "[1 3 5 7 9]\n",
            "[[-1.08599746  0.68171323]\n",
            " [ 0.11615512 -0.11560357]\n",
            " [ 0.8612043   2.97082778]\n",
            " [ 2.07308963 -1.37584463]\n",
            " [-1.09562654 -0.08571653]\n",
            " [ 0.06141061  1.64368091]\n",
            " [ 1.07665216 -0.08368083]\n",
            " [ 1.12024754  0.62012659]\n",
            " [ 0.07997547  2.00283869]\n",
            " [-0.10424663 -1.73070825]]\n"
          ]
        }
      ]
    },
    {
      "cell_type": "markdown",
      "source": [
        "# Pandas"
      ],
      "metadata": {
        "id": "AMPwLhgKxlQG"
      }
    },
    {
      "cell_type": "code",
      "source": [
        "# setting up imports before work with lib\n",
        "\n",
        "import os\n",
        "\n",
        "# os.system('wget -O titanic.csv https://www.dropbox.com/s/1qtgllk0d89bt3d/titanic.csv?dl=1')\n",
        "\n",
        "handy_data = pd.DataFrame(np.array([[1, 2, 3], [4, 5, 6]]), columns=['first', 'second', 'third']) # own dataset\n",
        "print(handy_data.head())"
      ],
      "metadata": {
        "colab": {
          "base_uri": "https://localhost:8080/"
        },
        "id": "Cdx8GXJdp5LJ",
        "outputId": "0f425851-3f17-465f-abe6-c6fad8802d74"
      },
      "execution_count": null,
      "outputs": [
        {
          "output_type": "stream",
          "name": "stdout",
          "text": [
            "   first  second  third\n",
            "0      1       2      3\n",
            "1      4       5      6\n"
          ]
        }
      ]
    },
    {
      "cell_type": "code",
      "source": [
        "data = pd.read_csv('titanic.csv') # load dataset from current folder\n",
        "\n",
        "print(data.head()) # the first 5 rows\n",
        "\n",
        "print(data.columns) # columns in the table\n",
        "\n",
        "print(data[:5]) # slice\n",
        "\n",
        "print(data.loc[:7, ['name', 'sex', 'age']]) # select several rows with named columns\n",
        "\n",
        "print(data.iloc[:7, 2:5]) # select by indexes\n",
        "\n",
        "print(data[(data['age'] >= 18)].loc[:10, ['name', 'age']]) # select with condition\n",
        "\n",
        "print(data[data['ticket'].notnull() & data['body'].notnull()].head()['name']) # get not the first 5 not null values\n",
        "\n",
        "print(data.groupby('pclass')['sex'].value_counts()) # get total qty\n",
        "\n",
        "print(data['age'].describe()) # description for age field\n",
        "\n",
        "print(data.sort_values(by=['name'])[:10]['name']) # sort by field\n"
      ],
      "metadata": {
        "id": "BD-KHocSxnF3",
        "colab": {
          "base_uri": "https://localhost:8080/"
        },
        "outputId": "47526a10-a176-4211-9c1f-2bfd6c753dd2"
      },
      "execution_count": null,
      "outputs": [
        {
          "output_type": "stream",
          "name": "stdout",
          "text": [
            "   pclass  survived  ...   body                        home.dest\n",
            "0       1         1  ...    NaN                     St Louis, MO\n",
            "1       1         1  ...    NaN  Montreal, PQ / Chesterville, ON\n",
            "2       1         0  ...    NaN  Montreal, PQ / Chesterville, ON\n",
            "3       1         0  ...  135.0  Montreal, PQ / Chesterville, ON\n",
            "4       1         0  ...    NaN  Montreal, PQ / Chesterville, ON\n",
            "\n",
            "[5 rows x 14 columns]\n",
            "Index(['pclass', 'survived', 'name', 'sex', 'age', 'sibsp', 'parch', 'ticket',\n",
            "       'fare', 'cabin', 'embarked', 'boat', 'body', 'home.dest'],\n",
            "      dtype='object')\n",
            "   pclass  survived  ...   body                        home.dest\n",
            "0       1         1  ...    NaN                     St Louis, MO\n",
            "1       1         1  ...    NaN  Montreal, PQ / Chesterville, ON\n",
            "2       1         0  ...    NaN  Montreal, PQ / Chesterville, ON\n",
            "3       1         0  ...  135.0  Montreal, PQ / Chesterville, ON\n",
            "4       1         0  ...    NaN  Montreal, PQ / Chesterville, ON\n",
            "\n",
            "[5 rows x 14 columns]\n",
            "                                              name     sex    age\n",
            "0                    Allen, Miss. Elisabeth Walton  female  29.00\n",
            "1                   Allison, Master. Hudson Trevor    male   0.92\n",
            "2                     Allison, Miss. Helen Loraine  female   2.00\n",
            "3             Allison, Mr. Hudson Joshua Creighton    male  30.00\n",
            "4  Allison, Mrs. Hudson J C (Bessie Waldo Daniels)  female  25.00\n",
            "5                              Anderson, Mr. Harry    male  48.00\n",
            "6                Andrews, Miss. Kornelia Theodosia  female  63.00\n",
            "7                           Andrews, Mr. Thomas Jr    male  39.00\n",
            "                                              name     sex    age\n",
            "0                    Allen, Miss. Elisabeth Walton  female  29.00\n",
            "1                   Allison, Master. Hudson Trevor    male   0.92\n",
            "2                     Allison, Miss. Helen Loraine  female   2.00\n",
            "3             Allison, Mr. Hudson Joshua Creighton    male  30.00\n",
            "4  Allison, Mrs. Hudson J C (Bessie Waldo Daniels)  female  25.00\n",
            "5                              Anderson, Mr. Harry    male  48.00\n",
            "6                Andrews, Miss. Kornelia Theodosia  female  63.00\n",
            "                                               name   age\n",
            "0                     Allen, Miss. Elisabeth Walton  29.0\n",
            "3              Allison, Mr. Hudson Joshua Creighton  30.0\n",
            "4   Allison, Mrs. Hudson J C (Bessie Waldo Daniels)  25.0\n",
            "5                               Anderson, Mr. Harry  48.0\n",
            "6                 Andrews, Miss. Kornelia Theodosia  63.0\n",
            "7                            Andrews, Mr. Thomas Jr  39.0\n",
            "8     Appleton, Mrs. Edward Dale (Charlotte Lamson)  53.0\n",
            "9                           Artagaveytia, Mr. Ramon  71.0\n",
            "10                           Astor, Col. John Jacob  47.0\n",
            "3     Allison, Mr. Hudson Joshua Creighton\n",
            "9                  Artagaveytia, Mr. Ramon\n",
            "10                  Astor, Col. John Jacob\n",
            "25                     Birnbaum, Mr. Jakob\n",
            "39                      Brandeis, Mr. Emil\n",
            "Name: name, dtype: object\n",
            "pclass  sex   \n",
            "1       male      179\n",
            "        female    144\n",
            "2       male      171\n",
            "        female    106\n",
            "3       male      493\n",
            "        female    216\n",
            "Name: sex, dtype: int64\n",
            "count    1046.000000\n",
            "mean       29.881138\n",
            "std        14.413493\n",
            "min         0.170000\n",
            "25%        21.000000\n",
            "50%        28.000000\n",
            "75%        39.000000\n",
            "max        80.000000\n",
            "Name: age, dtype: float64\n",
            "600                          Abbing, Mr. Anthony\n",
            "601                Abbott, Master. Eugene Joseph\n",
            "602                  Abbott, Mr. Rossmore Edward\n",
            "603             Abbott, Mrs. Stanton (Rosa Hunt)\n",
            "604                  Abelseth, Miss. Karen Marie\n",
            "605                Abelseth, Mr. Olaus Jorgensen\n",
            "323                          Abelson, Mr. Samuel\n",
            "324        Abelson, Mrs. Samuel (Hannah Wizosky)\n",
            "606     Abrahamsson, Mr. Abraham August Johannes\n",
            "607    Abrahim, Mrs. Joseph (Sophie Halaut Easu)\n",
            "Name: name, dtype: object\n"
          ]
        }
      ]
    },
    {
      "cell_type": "markdown",
      "source": [
        "# Matplotlib"
      ],
      "metadata": {
        "id": "sXRUMcC7xnbD"
      }
    },
    {
      "cell_type": "markdown",
      "source": [
        "# plots"
      ],
      "metadata": {
        "id": "MeNjJ7HEBZn1"
      }
    },
    {
      "cell_type": "markdown",
      "source": [
        "# little talk how to build plots"
      ],
      "metadata": {
        "id": "Mx7rDoHfGUoQ"
      }
    },
    {
      "cell_type": "code",
      "source": [
        "fig = plt.figure(figsize=(10, 6))\n",
        "\n",
        "axes = fig.add_axes([0,0,1,1])\n",
        "\n",
        "x = np.arange(-10, 10)\n",
        "y_linear = np.copy(x)\n",
        "y_2 = np.array([i ** 2 for i in x])\n",
        "y_3 = np.array([i * 3 for i in x])\n",
        "\n",
        "axes.plot(x, y_linear, 'r')\n",
        "axes.plot(x, y_2, 'go--')\n",
        "axes.plot(x, y_3, 'b*--')\n",
        "\n",
        "axes.set_xlabel('x') # ox name\n",
        "axes.set_ylabel('y') # oy name\n",
        "axes.set_title('Math functions') # plot name\n",
        "axes.legend(['x', r'$x^2$', '3x'], loc=0) # add legend\n",
        "\n",
        "plt.show()"
      ],
      "metadata": {
        "id": "D0yYaiuIxo7K",
        "colab": {
          "base_uri": "https://localhost:8080/",
          "height": 510
        },
        "outputId": "80d55ece-3997-4c59-c980-6c0974fa6452"
      },
      "execution_count": null,
      "outputs": [
        {
          "output_type": "display_data",
          "data": {
            "image/png": "[encoded data removed]",
            "text/plain": [
              "<Figure size 720x432 with 1 Axes>"
            ]
          },
          "metadata": {
            "needs_background": "light"
          }
        }
      ]
    },
    {
      "cell_type": "code",
      "source": [
        "from sklearn.metrics import mean_absolute_error, mean_squared_error\n",
        "\n",
        "x = np.arange(-10, 10, 0.001)\n",
        "y = 3.5 * np.copy(x)\n",
        "y_pred = np.arange(-35, 35, 0.0035)\n",
        "\n",
        "mae = mean_absolute_error(y, y_pred)\n",
        "mse = mean_squared_error(y, y_pred)\n",
        "\n",
        "print(f'MAE: {mae}')\n",
        "print(f'MSE: {mse}')\n",
        "\n",
        "plt.plot(x, y)\n",
        "\n",
        "plt.show()\n",
        "\n",
        "df = pd.DataFrame(np.array([x, y, y_pred, y - y_pred, (y - y_pred) ** 2]).T, columns=['x', 'y', 'y_pred', 'mae', 'mse'])\n",
        "df.to_csv('result.csv', index=False)  \n"
      ],
      "metadata": {
        "colab": {
          "base_uri": "https://localhost:8080/",
          "height": 300
        },
        "id": "UgXMNA3jGbXt",
        "outputId": "26f44f67-5fe7-44b4-941c-fea20e93d637"
      },
      "execution_count": null,
      "outputs": [
        {
          "output_type": "stream",
          "name": "stdout",
          "text": [
            "MAE: 4.440670053895701e-11\n",
            "MSE: 2.62933915267015e-21\n"
          ]
        },
        {
          "output_type": "display_data",
          "data": {
            "image/png": "[encoded data removed]",
            "text/plain": [
              "<Figure size 432x288 with 1 Axes>"
            ]
          },
          "metadata": {
            "needs_background": "light"
          }
        }
      ]
    },
    {
      "cell_type": "markdown",
      "source": [
        "# load dataset from diff places"
      ],
      "metadata": {
        "id": "iUfEOhL9MbVb"
      }
    },
    {
      "cell_type": "code",
      "source": [
        "import os\n",
        "# os.system('wget -O titanic.csv https://www.dropbox.com/s/1qtgllk0d89bt3d/titanic.csv?dl=1') # from the Internet\n",
        "data = pd.read_csv('titanic.csv')\n",
        "\n",
        "\n",
        "from google.colab import files\n",
        "# uploaded = files.upload() # from local pc\n",
        "data_local_pc = pd.read_csv('local_pc.csv')\n",
        "\n",
        "\n",
        "from google.colab import drive\n",
        "drive.mount('/content/drive')\n",
        "\n",
        "df = pd.read_csv('/content/drive/My Drive/foo.txt')\n",
        "\n",
        "\n",
        "\n",
        "\n"
      ],
      "metadata": {
        "colab": {
          "base_uri": "https://localhost:8080/"
        },
        "id": "EZsTLrUMMbB5",
        "outputId": "043d72d4-f846-429e-8cbc-32614f7a3b5e"
      },
      "execution_count": null,
      "outputs": [
        {
          "output_type": "stream",
          "name": "stdout",
          "text": [
            "Drive already mounted at /content/drive; to attempt to forcibly remount, call drive.mount(\"/content/drive\", force_remount=True).\n"
          ]
        }
      ]
    },
    {
      "cell_type": "markdown",
      "source": [
        "# Висновок\n",
        "На даній лабораторній роботі ми навчилися працювати з бібліотеками numpy, pandas and matplotlib. Ми застосували основні інструменти з них для того, щоб вирішити тестові завдання.\n",
        "Також, ми отримали навички у налаштування середи розробки, навчилися підключати графічний юніт, завантажувати дані різними способами."
      ],
      "metadata": {
        "id": "dv3WcmPrytsf"
      }
    }
  ]
}
