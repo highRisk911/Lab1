{
  "nbformat": 4,
  "nbformat_minor": 0,
  "metadata": {
    "colab": {
      "name": "LR2.ipynb",
      "provenance": [],
      "collapsed_sections": [],
      "include_colab_link": true
    },
    "kernelspec": {
      "name": "python3",
      "display_name": "Python 3"
    },
    "language_info": {
      "name": "python"
    },
    "accelerator": "GPU"
  },
  "cells": [
    {
      "cell_type": "markdown",
      "metadata": {
        "id": "view-in-github",
        "colab_type": "text"
      },
      "source": [
        "<a href=\"https://colab.research.google.com/github/highRisk911/Lab1/blob/main/LR2.ipynb\" target=\"_parent\"><img src=\"https://colab.research.google.com/assets/colab-badge.svg\" alt=\"Open In Colab\"/></a>"
      ]
    },
    {
      "cell_type": "markdown",
      "source": [
        "# Лабораторна робота 2\n",
        "Іщенка Дмитра Романовича\n"
      ],
      "metadata": {
        "id": "5LAnSeqNyA_g"
      }
    },
    {
      "cell_type": "code",
      "execution_count": null,
      "metadata": {
        "id": "j1ReV7anxkyI"
      },
      "outputs": [],
      "source": [
        "import tensorflow as tf\n",
        "# print(tf.__version__)\n",
        "import numpy as np\n",
        "import pandas as pd"
      ]
    },
    {
      "cell_type": "markdown",
      "source": [
        "# Tensor creation"
      ],
      "metadata": {
        "id": "yIf04X2Q12mW"
      }
    },
    {
      "cell_type": "code",
      "source": [
        " \n",
        "scalar = tf.constant(999)\n",
        "print(scalar)\n",
        "print(scalar.ndim)\n",
        " \n",
        "vector = tf.constant([9, 9, 9])\n",
        "print(vector)\n",
        "print(vector.ndim)\n",
        " \n",
        "matrix = tf.constant([[1, 1], [2, 2]])\n",
        "print(matrix)\n",
        "print(matrix.ndim)\n",
        " \n",
        " \n",
        "matrix_tensor = tf.Variable([[1, 1], [2, 2]])\n",
        "print(matrix_tensor)\n",
        " \n",
        "matrix_tensor[0].assign([9, 9])\n",
        "print(matrix_tensor)\n",
        "\n",
        " \n",
        "\n",
        "random_1 = tf.random.Generator.from_seed(42)\n",
        "print(random_1.normal(shape=(2, 3)))\n",
        " \n",
        "\n",
        "unshuffled = tf.constant([1, 2, 3])\n",
        "shuffled = tf.random.shuffle(unshuffled)\n",
        "print(shuffled)\n",
        " \n",
        "\n",
        "ones = tf.ones(shape=(1, 5))\n",
        "zeros = tf.zeros(shape=(2, 2))\n",
        "print(ones)\n",
        "print(zeros)\n",
        " \n",
        "\n",
        "numpy_array = np.arange(1, 10)\n",
        "tensor_from_np_array = tf.constant(numpy_array, shape=(3, 3))\n",
        "print(tensor_from_np_array)"
      ],
      "metadata": {
        "colab": {
          "base_uri": "https://localhost:8080/"
        },
        "id": "ML-h3y1nysHX",
        "outputId": "c8768b2b-86eb-4c67-a0be-6a3fa8ba987d"
      },
      "execution_count": null,
      "outputs": [
        {
          "output_type": "stream",
          "name": "stdout",
          "text": [
            "tf.Tensor(999, shape=(), dtype=int32)\n",
            "0\n",
            "tf.Tensor([9 9 9], shape=(3,), dtype=int32)\n",
            "1\n",
            "tf.Tensor(\n",
            "[[1 1]\n",
            " [2 2]], shape=(2, 2), dtype=int32)\n",
            "2\n",
            "<tf.Variable 'Variable:0' shape=(2, 2) dtype=int32, numpy=\n",
            "array([[1, 1],\n",
            "       [2, 2]], dtype=int32)>\n",
            "<tf.Variable 'Variable:0' shape=(2, 2) dtype=int32, numpy=\n",
            "array([[9, 9],\n",
            "       [2, 2]], dtype=int32)>\n",
            "tf.Tensor(\n",
            "[[-0.7565803  -0.06854702  0.07595026]\n",
            " [-1.2573844  -0.23193765 -1.8107855 ]], shape=(2, 3), dtype=float32)\n",
            "tf.Tensor([2 1 3], shape=(3,), dtype=int32)\n",
            "tf.Tensor([[1. 1. 1. 1. 1.]], shape=(1, 5), dtype=float32)\n",
            "tf.Tensor(\n",
            "[[0. 0.]\n",
            " [0. 0.]], shape=(2, 2), dtype=float32)\n",
            "tf.Tensor(\n",
            "[[1 2 3]\n",
            " [4 5 6]\n",
            " [7 8 9]], shape=(3, 3), dtype=int64)\n"
          ]
        }
      ]
    },
    {
      "cell_type": "markdown",
      "source": [
        "# Getting info from tensors"
      ],
      "metadata": {
        "id": "rGQrEWpn1_B8"
      }
    },
    {
      "cell_type": "code",
      "source": [
        "custom_tensor = tf.ones(shape=(3, 4, 4))\n",
        "\n",
        "print(custom_tensor)\n",
        " \n",
        "\n",
        "print(custom_tensor.shape)\n",
        "print(custom_tensor.ndim)\n",
        "print(tf.size(custom_tensor))\n",
        "print(tf.rank(custom_tensor))\n",
        "\n",
        "tf.expand_dims(custom_tensor, axis=-1)"
      ],
      "metadata": {
        "colab": {
          "base_uri": "https://localhost:8080/"
        },
        "id": "GR1GpnKiyoA0",
        "outputId": "982545c3-ded8-4e64-ded2-ed63162b6baf"
      },
      "execution_count": null,
      "outputs": [
        {
          "output_type": "stream",
          "name": "stdout",
          "text": [
            "tf.Tensor(\n",
            "[[[1. 1. 1. 1.]\n",
            "  [1. 1. 1. 1.]\n",
            "  [1. 1. 1. 1.]\n",
            "  [1. 1. 1. 1.]]\n",
            "\n",
            " [[1. 1. 1. 1.]\n",
            "  [1. 1. 1. 1.]\n",
            "  [1. 1. 1. 1.]\n",
            "  [1. 1. 1. 1.]]\n",
            "\n",
            " [[1. 1. 1. 1.]\n",
            "  [1. 1. 1. 1.]\n",
            "  [1. 1. 1. 1.]\n",
            "  [1. 1. 1. 1.]]], shape=(3, 4, 4), dtype=float32)\n",
            "(3, 4, 4)\n",
            "3\n",
            "tf.Tensor(48, shape=(), dtype=int32)\n",
            "tf.Tensor(3, shape=(), dtype=int32)\n"
          ]
        },
        {
          "output_type": "execute_result",
          "data": {
            "text/plain": [
              "<tf.Tensor: shape=(3, 4, 4, 1), dtype=float32, numpy=\n",
              "array([[[[1.],\n",
              "         [1.],\n",
              "         [1.],\n",
              "         [1.]],\n",
              "\n",
              "        [[1.],\n",
              "         [1.],\n",
              "         [1.],\n",
              "         [1.]],\n",
              "\n",
              "        [[1.],\n",
              "         [1.],\n",
              "         [1.],\n",
              "         [1.]],\n",
              "\n",
              "        [[1.],\n",
              "         [1.],\n",
              "         [1.],\n",
              "         [1.]]],\n",
              "\n",
              "\n",
              "       [[[1.],\n",
              "         [1.],\n",
              "         [1.],\n",
              "         [1.]],\n",
              "\n",
              "        [[1.],\n",
              "         [1.],\n",
              "         [1.],\n",
              "         [1.]],\n",
              "\n",
              "        [[1.],\n",
              "         [1.],\n",
              "         [1.],\n",
              "         [1.]],\n",
              "\n",
              "        [[1.],\n",
              "         [1.],\n",
              "         [1.],\n",
              "         [1.]]],\n",
              "\n",
              "\n",
              "       [[[1.],\n",
              "         [1.],\n",
              "         [1.],\n",
              "         [1.]],\n",
              "\n",
              "        [[1.],\n",
              "         [1.],\n",
              "         [1.],\n",
              "         [1.]],\n",
              "\n",
              "        [[1.],\n",
              "         [1.],\n",
              "         [1.],\n",
              "         [1.]],\n",
              "\n",
              "        [[1.],\n",
              "         [1.],\n",
              "         [1.],\n",
              "         [1.]]]], dtype=float32)>"
            ]
          },
          "metadata": {},
          "execution_count": 44
        }
      ]
    },
    {
      "cell_type": "markdown",
      "source": [
        "# Math oprations with tensors"
      ],
      "metadata": {
        "id": "bRAgVnBM2FCl"
      }
    },
    {
      "cell_type": "code",
      "source": [
        "tensor = tf.constant([[1, 2, 3],\n",
        "                      [1, 2, 3]])\n",
        " \n",
        "print(tensor + 5)\n",
        "print(tensor - 5)\n",
        "print(tf.multiply(tensor, 5))\n",
        "\n",
        "  \n",
        "print(tensor @ tf.reshape(tensor, shape=(3, 2))) # 1 way\n",
        "print(tf.matmul(tensor, tf.transpose(tensor))) # 2 way\n",
        "\n",
        "\n",
        "negative_tensor = tf.constant([[-1, -2, -3], [-1, -2, -3]])\n",
        "\n",
        "print(tf.abs(negative_tensor))\n",
        "print(tf.reduce_max(negative_tensor))\n",
        "print(tf.reduce_mean(negative_tensor))"
      ],
      "metadata": {
        "colab": {
          "base_uri": "https://localhost:8080/"
        },
        "id": "MCLKxDK42Dpi",
        "outputId": "7981a4bf-26fc-48fc-d19d-7e086c1b584b"
      },
      "execution_count": null,
      "outputs": [
        {
          "output_type": "stream",
          "name": "stdout",
          "text": [
            "tf.Tensor(\n",
            "[[6 7 8]\n",
            " [6 7 8]], shape=(2, 3), dtype=int32)\n",
            "tf.Tensor(\n",
            "[[-4 -3 -2]\n",
            " [-4 -3 -2]], shape=(2, 3), dtype=int32)\n",
            "tf.Tensor(\n",
            "[[ 5 10 15]\n",
            " [ 5 10 15]], shape=(2, 3), dtype=int32)\n",
            "tf.Tensor(\n",
            "[[13 13]\n",
            " [13 13]], shape=(2, 2), dtype=int32)\n",
            "tf.Tensor(\n",
            "[[14 14]\n",
            " [14 14]], shape=(2, 2), dtype=int32)\n",
            "tf.Tensor(\n",
            "[[1 2 3]\n",
            " [1 2 3]], shape=(2, 3), dtype=int32)\n",
            "tf.Tensor(-1, shape=(), dtype=int32)\n",
            "tf.Tensor(-2, shape=(), dtype=int32)\n"
          ]
        }
      ]
    },
    {
      "cell_type": "markdown",
      "source": [
        "# CRUD, reshape, np.array, pd.DataFrame"
      ],
      "metadata": {
        "id": "TWlV8oOZ2Jv2"
      }
    },
    {
      "cell_type": "code",
      "source": [
        "tensor = tf.Variable([[1, 1], [2, 2], [3, 3]])\n",
        "\n",
        "tf.compat.v1.assign(tensor[0], [999, 999])\n",
        "print(tensor)\n",
        "\n",
        "tensor = tf.sqrt(tf.cast(tensor, dtype=tf.float32))\n",
        "print(tensor)\n",
        "\n",
        "tensor = tf.square(tensor)\n",
        "print(tensor)\n",
        "\n",
        "one_dimension_tensor = tf.random.Generator.from_seed(10)\n",
        "one_dimension_tensor = tf.reshape(one_dimension_tensor.normal(shape=(3, 2)), shape=(2, 3))\n",
        "print(one_dimension_tensor)\n",
        "\n",
        "\n",
        "# numpy\n",
        "N = tf.Variable(np.array([1, 2, 3, 4]))\n",
        "print(N.numpy())\n",
        "print(N)\n",
        "\n",
        "\n",
        "# pandas\n",
        "P = tf.Variable(pd.DataFrame([1, 2, 3, 4]))\n",
        "print(P)"
      ],
      "metadata": {
        "colab": {
          "base_uri": "https://localhost:8080/"
        },
        "id": "OfSXosV2yogb",
        "outputId": "a91647cf-e98f-43ce-c878-8ea4f5a0c40e"
      },
      "execution_count": null,
      "outputs": [
        {
          "output_type": "stream",
          "name": "stdout",
          "text": [
            "<tf.Variable 'Variable:0' shape=(3, 2) dtype=int32, numpy=\n",
            "array([[999, 999],\n",
            "       [  2,   2],\n",
            "       [  3,   3]], dtype=int32)>\n",
            "tf.Tensor(\n",
            "[[31.60696   31.60696  ]\n",
            " [ 1.4142135  1.4142135]\n",
            " [ 1.7320508  1.7320508]], shape=(3, 2), dtype=float32)\n",
            "tf.Tensor(\n",
            "[[998.99994   998.99994  ]\n",
            " [  1.9999999   1.9999999]\n",
            " [  3.          3.       ]], shape=(3, 2), dtype=float32)\n",
            "tf.Tensor(\n",
            "[[-0.29604465 -0.21134207  0.01063002]\n",
            " [ 1.5165398   0.2730574  -0.29925638]], shape=(2, 3), dtype=float32)\n",
            "[1 2 3 4]\n",
            "<tf.Variable 'Variable:0' shape=(4,) dtype=int64, numpy=array([1, 2, 3, 4])>\n",
            "<tf.Variable 'Variable:0' shape=(4, 1) dtype=int64, numpy=\n",
            "array([[1],\n",
            "       [2],\n",
            "       [3],\n",
            "       [4]])>\n"
          ]
        }
      ]
    },
    {
      "cell_type": "markdown",
      "source": [
        "# Висновок\n",
        "На даній лабораторній роботі було використино багато базовий функціонал бібліотеки TensorFlow, що допомагає ефективно обробляти дані та представляє дуже прости api для роботи з великими масивами даних. Також було застосовано TF для опрацювання numpy масивів та pandas дата фреймів."
      ],
      "metadata": {
        "id": "hwogVRqRye1t"
      }
    }
  ]
}